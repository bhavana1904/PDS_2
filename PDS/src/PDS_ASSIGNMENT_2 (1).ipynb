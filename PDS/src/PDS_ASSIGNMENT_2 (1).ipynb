{
  "nbformat": 4,
  "nbformat_minor": 0,
  "metadata": {
    "colab": {
      "provenance": []
    },
    "kernelspec": {
      "name": "python3",
      "display_name": "Python 3"
    },
    "language_info": {
      "name": "python"
    }
  },
  "cells": [
    {
      "cell_type": "markdown",
      "source": [],
      "metadata": {
        "id": "cXoXHitBL4N1"
      }
    },
    {
      "cell_type": "code",
      "source": [
        "import warnings\n",
        "warnings.filterwarnings('ignore')"
      ],
      "metadata": {
        "id": "ln4w8p2RZ6u1"
      },
      "execution_count": null,
      "outputs": []
    },
    {
      "cell_type": "code",
      "execution_count": null,
      "metadata": {
        "colab": {
          "base_uri": "https://localhost:8080/"
        },
        "id": "UfASZAfU5FsP",
        "outputId": "ed1ec3d1-de06-4e4a-ea62-93b618b69af9"
      },
      "outputs": [
        {
          "output_type": "stream",
          "name": "stdout",
          "text": [
            "      Unnamed: 0                              Name    Location  Year  \\\n",
            "0              1  Hyundai Creta 1.6 CRDi SX Option        Pune  2015   \n",
            "1              2                      Honda Jazz V     Chennai  2011   \n",
            "2              3                 Maruti Ertiga VDI     Chennai  2012   \n",
            "3              4   Audi A4 New 2.0 TDI Multitronic  Coimbatore  2013   \n",
            "4              6            Nissan Micra Diesel XV      Jaipur  2013   \n",
            "...          ...                               ...         ...   ...   \n",
            "5842        6014                  Maruti Swift VDI       Delhi  2014   \n",
            "5843        6015          Hyundai Xcent 1.1 CRDi S      Jaipur  2015   \n",
            "5844        6016             Mahindra Xylo D4 BSIV      Jaipur  2012   \n",
            "5845        6017                Maruti Wagon R VXI     Kolkata  2013   \n",
            "5846        6018             Chevrolet Beat Diesel   Hyderabad  2011   \n",
            "\n",
            "      Kilometers_Driven Fuel_Type Transmission Owner_Type     Mileage  \\\n",
            "0                 41000    Diesel       Manual      First  19.67 kmpl   \n",
            "1                 46000    Petrol       Manual      First    13 km/kg   \n",
            "2                 87000    Diesel       Manual      First  20.77 kmpl   \n",
            "3                 40670    Diesel    Automatic     Second   15.2 kmpl   \n",
            "4                 86999    Diesel       Manual      First  23.08 kmpl   \n",
            "...                 ...       ...          ...        ...         ...   \n",
            "5842              27365    Diesel       Manual      First   28.4 kmpl   \n",
            "5843             100000    Diesel       Manual      First   24.4 kmpl   \n",
            "5844              55000    Diesel       Manual     Second   14.0 kmpl   \n",
            "5845              46000    Petrol       Manual      First   18.9 kmpl   \n",
            "5846              47000    Diesel       Manual      First  25.44 kmpl   \n",
            "\n",
            "       Engine      Power  Seats  New_Price  Price  \n",
            "0     1582 CC  126.2 bhp    5.0        NaN  12.50  \n",
            "1     1199 CC   88.7 bhp    5.0  8.61 Lakh   4.50  \n",
            "2     1248 CC  88.76 bhp    7.0        NaN   6.00  \n",
            "3     1968 CC  140.8 bhp    5.0        NaN  17.74  \n",
            "4     1461 CC   63.1 bhp    5.0        NaN   3.50  \n",
            "...       ...        ...    ...        ...    ...  \n",
            "5842  1248 CC     74 bhp    5.0  7.88 Lakh   4.75  \n",
            "5843  1120 CC     71 bhp    5.0        NaN   4.00  \n",
            "5844  2498 CC    112 bhp    8.0        NaN   2.90  \n",
            "5845   998 CC   67.1 bhp    5.0        NaN   2.65  \n",
            "5846   936 CC   57.6 bhp    5.0        NaN   2.50  \n",
            "\n",
            "[5847 rows x 14 columns]\n"
          ]
        }
      ],
      "source": [
        "import pandas as pd\n",
        "import numpy as np\n",
        "\n",
        "data = pd.read_csv('/train.csv')\n",
        "print(data)\n"
      ]
    },
    {
      "cell_type": "markdown",
      "source": [
        "# **a) Look for the missing values in all the columns and either impute them (replace with mean, median, or mode) or drop them. Justify your action for this task.]**"
      ],
      "metadata": {
        "id": "xOYFSYrFL_sf"
      }
    },
    {
      "cell_type": "code",
      "source": [
        "missing_values = data.isnull().sum()\n",
        "print(missing_values)\n"
      ],
      "metadata": {
        "colab": {
          "base_uri": "https://localhost:8080/"
        },
        "id": "rqrQdVDhIdI7",
        "outputId": "e6048dab-120d-429b-ffbd-2c0d49da7ea0"
      },
      "execution_count": null,
      "outputs": [
        {
          "output_type": "stream",
          "name": "stdout",
          "text": [
            "Unnamed: 0              0\n",
            "Name                    0\n",
            "Location                0\n",
            "Year                    0\n",
            "Kilometers_Driven       0\n",
            "Fuel_Type               0\n",
            "Transmission            0\n",
            "Owner_Type              0\n",
            "Mileage                 2\n",
            "Engine                 36\n",
            "Power                  36\n",
            "Seats                  38\n",
            "New_Price            5032\n",
            "Price                   0\n",
            "dtype: int64\n"
          ]
        }
      ]
    },
    {
      "cell_type": "code",
      "source": [
        "dataframe_orginal=pd.DataFrame(data)\n",
        "dataframe_cleaned=dataframe_orginal.dropna(subset=['Mileage','Engine','Power','Seats','New_Price'])\n",
        "dataframe_cleaned.reset_index(drop=True,inplace=True)\n",
        "print(\"original data:\",dataframe_cleaned.shape)\n",
        "print(\"dataframe\",dataframe_cleaned.shape)\n",
        "print(dataframe_cleaned)\n",
        "dataframe_cleaned.to_csv('cleaned_data.csv')"
      ],
      "metadata": {
        "colab": {
          "base_uri": "https://localhost:8080/"
        },
        "id": "5lw-qXeuJEtu",
        "outputId": "a4bf375d-0f7d-46ad-9bbd-249b4aa24bd1"
      },
      "execution_count": null,
      "outputs": [
        {
          "output_type": "stream",
          "name": "stdout",
          "text": [
            "original data: (814, 14)\n",
            "dataframe (814, 14)\n",
            "     Unnamed: 0                               Name Location  Year  \\\n",
            "0             2                       Honda Jazz V  Chennai  2011   \n",
            "1             7  Toyota Innova Crysta 2.8 GX AT 8S   Mumbai  2016   \n",
            "2            10                   Maruti Ciaz Zeta    Kochi  2018   \n",
            "3            15        Mitsubishi Pajero Sport 4X4    Delhi  2014   \n",
            "4            20                  BMW 3 Series 320d    Kochi  2014   \n",
            "..          ...                                ...      ...   ...   \n",
            "809        5999              Tata Bolt Revotron XT  Chennai  2016   \n",
            "810        6002      Volkswagen Vento 1.6 Highline   Mumbai  2011   \n",
            "811        6005           Maruti Vitara Brezza VDi     Pune  2016   \n",
            "812        6010               Honda Brio 1.2 VX MT    Delhi  2013   \n",
            "813        6014                   Maruti Swift VDI    Delhi  2014   \n",
            "\n",
            "     Kilometers_Driven Fuel_Type Transmission Owner_Type     Mileage   Engine  \\\n",
            "0                46000    Petrol       Manual      First    13 km/kg  1199 CC   \n",
            "1                36000    Diesel    Automatic      First  11.36 kmpl  2755 CC   \n",
            "2                25692    Petrol       Manual      First  21.56 kmpl  1462 CC   \n",
            "3               110000    Diesel       Manual      First   13.5 kmpl  2477 CC   \n",
            "4                32982    Diesel    Automatic      First  22.69 kmpl  1995 CC   \n",
            "..                 ...       ...          ...        ...         ...      ...   \n",
            "809              10000    Petrol       Manual      First  17.57 kmpl  1193 CC   \n",
            "810              38000    Petrol       Manual      First  16.09 kmpl  1598 CC   \n",
            "811              37208    Diesel       Manual      First   24.3 kmpl  1248 CC   \n",
            "812              33746    Petrol       Manual      First   18.5 kmpl  1198 CC   \n",
            "813              27365    Diesel       Manual      First   28.4 kmpl  1248 CC   \n",
            "\n",
            "          Power  Seats   New_Price  Price  \n",
            "0      88.7 bhp    5.0   8.61 Lakh   4.50  \n",
            "1     171.5 bhp    8.0     21 Lakh  17.50  \n",
            "2    103.25 bhp    5.0  10.65 Lakh   9.95  \n",
            "3    175.56 bhp    7.0  32.01 Lakh  15.00  \n",
            "4       190 bhp    5.0  47.87 Lakh  18.55  \n",
            "..          ...    ...         ...    ...  \n",
            "809    88.7 bhp    5.0   7.77 Lakh   4.00  \n",
            "810   103.5 bhp    5.0  11.91 Lakh   3.25  \n",
            "811    88.5 bhp    5.0   9.93 Lakh   7.43  \n",
            "812    86.8 bhp    5.0   6.63 Lakh   3.20  \n",
            "813      74 bhp    5.0   7.88 Lakh   4.75  \n",
            "\n",
            "[814 rows x 14 columns]\n"
          ]
        }
      ]
    },
    {
      "cell_type": "markdown",
      "source": [
        "# **Remove the units from some of the attributes and only keep the numerical values (for example remove kmpl from “Mileage”, CC from “Engine”, bhp from “Power”, and lakh from “New_price”).**"
      ],
      "metadata": {
        "id": "1EFZsuz0O-Mt"
      }
    },
    {
      "cell_type": "code",
      "source": [
        "dataframe_cleaned.loc[:, 'Mileage'] = dataframe_cleaned['Mileage'].astype(str).str.replace(r' kmpl| km/kg', '', regex=True).astype(float)\n",
        "\n",
        "dataframe_cleaned['Engine'] = dataframe_cleaned['Engine'].astype(str).str.replace(' CC', '')\n",
        "dataframe_cleaned['Engine'] = dataframe_cleaned['Engine'].replace('nan', np.nan)\n",
        "dataframe_cleaned['Engine'] = dataframe_cleaned['Engine'].astype(float).fillna(0).astype(int)\n",
        "\n",
        "dataframe_cleaned['Power'] = dataframe_cleaned['Power'].astype(str).str.replace(' bhp', '').astype(float)\n",
        "\n",
        "dataframe_cleaned['New_Price'] = dataframe_cleaned['New_Price'].astype(str).str.replace(r' Lakh| Cr', '', regex=True).astype(float)\n",
        "\n",
        "print(dataframe_cleaned.head())\n",
        "\n",
        "dataframe_cleaned.to_csv('no_units_data.csv')\n",
        "\n"
      ],
      "metadata": {
        "colab": {
          "base_uri": "https://localhost:8080/"
        },
        "id": "nwmlK3u17jNQ",
        "outputId": "dc4e60af-4007-4741-e274-edfc4c2fc91c"
      },
      "execution_count": null,
      "outputs": [
        {
          "output_type": "stream",
          "name": "stdout",
          "text": [
            "   Unnamed: 0                               Name Location  Year  \\\n",
            "0           2                       Honda Jazz V  Chennai  2011   \n",
            "1           7  Toyota Innova Crysta 2.8 GX AT 8S   Mumbai  2016   \n",
            "2          10                   Maruti Ciaz Zeta    Kochi  2018   \n",
            "3          15        Mitsubishi Pajero Sport 4X4    Delhi  2014   \n",
            "4          20                  BMW 3 Series 320d    Kochi  2014   \n",
            "\n",
            "   Kilometers_Driven Fuel_Type Transmission Owner_Type  Mileage  Engine  \\\n",
            "0              46000    Petrol       Manual      First    13.00    1199   \n",
            "1              36000    Diesel    Automatic      First    11.36    2755   \n",
            "2              25692    Petrol       Manual      First    21.56    1462   \n",
            "3             110000    Diesel       Manual      First    13.50    2477   \n",
            "4              32982    Diesel    Automatic      First    22.69    1995   \n",
            "\n",
            "    Power  Seats  New_Price  Price  \n",
            "0   88.70    5.0       8.61   4.50  \n",
            "1  171.50    8.0      21.00  17.50  \n",
            "2  103.25    5.0      10.65   9.95  \n",
            "3  175.56    7.0      32.01  15.00  \n",
            "4  190.00    5.0      47.87  18.55  \n"
          ]
        }
      ]
    },
    {
      "cell_type": "markdown",
      "source": [
        "# **Change the categorical variables (“Fuel_Type” and “Transmission”) into numerical one hot encoded value.**"
      ],
      "metadata": {
        "id": "kvaXgtSaPBcY"
      }
    },
    {
      "cell_type": "code",
      "source": [
        "hot_encoded = pd.get_dummies(data, columns=['Fuel_Type', 'Transmission'])\n",
        "print(hot_encoded.head())\n",
        "hot_encoded.to_csv('hot_encoded.csv')\n"
      ],
      "metadata": {
        "colab": {
          "base_uri": "https://localhost:8080/"
        },
        "id": "Hxv6dEccBcs3",
        "outputId": "f5a03039-7364-4185-ede1-0a3e989f16f1"
      },
      "execution_count": null,
      "outputs": [
        {
          "output_type": "stream",
          "name": "stdout",
          "text": [
            "   Unnamed: 0                              Name    Location  Year  \\\n",
            "0           1  Hyundai Creta 1.6 CRDi SX Option        Pune  2015   \n",
            "1           2                      Honda Jazz V     Chennai  2011   \n",
            "2           3                 Maruti Ertiga VDI     Chennai  2012   \n",
            "3           4   Audi A4 New 2.0 TDI Multitronic  Coimbatore  2013   \n",
            "4           6            Nissan Micra Diesel XV      Jaipur  2013   \n",
            "\n",
            "   Kilometers_Driven Owner_Type     Mileage   Engine      Power  Seats  \\\n",
            "0              41000      First  19.67 kmpl  1582 CC  126.2 bhp    5.0   \n",
            "1              46000      First    13 km/kg  1199 CC   88.7 bhp    5.0   \n",
            "2              87000      First  20.77 kmpl  1248 CC  88.76 bhp    7.0   \n",
            "3              40670     Second   15.2 kmpl  1968 CC  140.8 bhp    5.0   \n",
            "4              86999      First  23.08 kmpl  1461 CC   63.1 bhp    5.0   \n",
            "\n",
            "   New_Price  Price  Fuel_Type_Diesel  Fuel_Type_Electric  Fuel_Type_Petrol  \\\n",
            "0        NaN  12.50                 1                   0                 0   \n",
            "1  8.61 Lakh   4.50                 0                   0                 1   \n",
            "2        NaN   6.00                 1                   0                 0   \n",
            "3        NaN  17.74                 1                   0                 0   \n",
            "4        NaN   3.50                 1                   0                 0   \n",
            "\n",
            "   Transmission_Automatic  Transmission_Manual  \n",
            "0                       0                    1  \n",
            "1                       0                    1  \n",
            "2                       0                    1  \n",
            "3                       1                    0  \n",
            "4                       0                    1  \n"
          ]
        }
      ]
    },
    {
      "cell_type": "markdown",
      "source": [
        "# **Create one more feature and add this column to the dataset (you can use mutate function in R for this). For example, you can calculate the current age of the car by subtracting “Year” value from the current year. **"
      ],
      "metadata": {
        "id": "cVmGK9fFPWvi"
      }
    },
    {
      "cell_type": "code",
      "source": [
        "import pandas as pd\n",
        "from datetime import datetime\n",
        "\n",
        "current_year = datetime.now().year\n",
        "dataframe_cleaned['Current_Age'] = current_year - dataframe_cleaned['Year']\n",
        "print(dataframe_cleaned.head())\n",
        "dataframe_cleaned.to_csv('current_age.csv')\n"
      ],
      "metadata": {
        "colab": {
          "base_uri": "https://localhost:8080/"
        },
        "id": "c8xiSyalCXmD",
        "outputId": "51b2a3bc-b654-4014-c03d-11b6af516344"
      },
      "execution_count": null,
      "outputs": [
        {
          "output_type": "stream",
          "name": "stdout",
          "text": [
            "   Unnamed: 0                               Name Location  Year  \\\n",
            "0           2                       Honda Jazz V  Chennai  2011   \n",
            "1           7  Toyota Innova Crysta 2.8 GX AT 8S   Mumbai  2016   \n",
            "2          10                   Maruti Ciaz Zeta    Kochi  2018   \n",
            "3          15        Mitsubishi Pajero Sport 4X4    Delhi  2014   \n",
            "4          20                  BMW 3 Series 320d    Kochi  2014   \n",
            "\n",
            "   Kilometers_Driven Owner_Type  Mileage  Engine   Power  Seats  New_Price  \\\n",
            "0              46000      First    13.00    1199   88.70    5.0       8.61   \n",
            "1              36000      First    11.36    2755  171.50    8.0      21.00   \n",
            "2              25692      First    21.56    1462  103.25    5.0      10.65   \n",
            "3             110000      First    13.50    2477  175.56    7.0      32.01   \n",
            "4              32982      First    22.69    1995  190.00    5.0      47.87   \n",
            "\n",
            "   Price  Fuel_Type_Diesel  Fuel_Type_Petrol  Transmission_Automatic  \\\n",
            "0   4.50                 0                 1                       0   \n",
            "1  17.50                 1                 0                       1   \n",
            "2   9.95                 0                 1                       0   \n",
            "3  15.00                 1                 0                       0   \n",
            "4  18.55                 1                 0                       1   \n",
            "\n",
            "   Transmission_Manual  Current_Age  \n",
            "0                    1           13  \n",
            "1                    0            8  \n",
            "2                    1            6  \n",
            "3                    1           10  \n",
            "4                    0           10  \n"
          ]
        }
      ]
    },
    {
      "cell_type": "markdown",
      "source": [
        "# Perform select, filter, rename, mutate, arrange and summarize with group by operations (or) their equivalent operations in python) on this dataset."
      ],
      "metadata": {
        "id": "C98dzS7NPYzL"
      }
    },
    {
      "cell_type": "code",
      "source": [
        "selected_dataframe_cleaned = dataframe_cleaned[['Location', 'Year', 'Price']]\n",
        "print(selected_dataframe_cleaned)\n",
        "selected_dataframe_cleaned.to_csv('selected_data.csv')\n"
      ],
      "metadata": {
        "colab": {
          "base_uri": "https://localhost:8080/"
        },
        "id": "vZ17C1RvDUGU",
        "outputId": "5acc96b4-a884-42b0-c5be-74fb92ff4fcf"
      },
      "execution_count": null,
      "outputs": [
        {
          "output_type": "stream",
          "name": "stdout",
          "text": [
            "    Location  Year  Price\n",
            "0    Chennai  2011   4.50\n",
            "1     Mumbai  2016  17.50\n",
            "2      Kochi  2018   9.95\n",
            "3      Delhi  2014  15.00\n",
            "4      Kochi  2014  18.55\n",
            "..       ...   ...    ...\n",
            "809  Chennai  2016   4.00\n",
            "810   Mumbai  2011   3.25\n",
            "811     Pune  2016   7.43\n",
            "812    Delhi  2013   3.20\n",
            "813    Delhi  2014   4.75\n",
            "\n",
            "[814 rows x 3 columns]\n"
          ]
        }
      ]
    },
    {
      "cell_type": "code",
      "source": [
        "filtered_dataframe_cleaned = dataframe_cleaned[dataframe_cleaned['Year'] > 2015]\n",
        "print(filtered_dataframe_cleaned)\n",
        "filtered_dataframe_cleaned.to_csv('filtered_data.csv')\n"
      ],
      "metadata": {
        "colab": {
          "base_uri": "https://localhost:8080/"
        },
        "id": "RlYv6VErDmdV",
        "outputId": "4f13215f-3db2-4de7-e7a9-2a64cb499822"
      },
      "execution_count": null,
      "outputs": [
        {
          "output_type": "stream",
          "name": "stdout",
          "text": [
            "     Unnamed: 0                               Name Location  Year  \\\n",
            "1             7  Toyota Innova Crysta 2.8 GX AT 8S   Mumbai  2016   \n",
            "2            10                   Maruti Ciaz Zeta    Kochi  2018   \n",
            "5            28                Honda WRV i-VTEC VX    Kochi  2018   \n",
            "7            36      Maruti Vitara Brezza ZDi Plus    Kochi  2018   \n",
            "10           60  Toyota Innova Crysta 2.4 GX MT 8S   Mumbai  2017   \n",
            "..          ...                                ...      ...   ...   \n",
            "805        5981                Maruti Baleno Alpha   Mumbai  2017   \n",
            "806        5982                      Tata Hexa XTA   Jaipur  2016   \n",
            "807        5987         Tata Tiago 1.2 Revotron XT    Kochi  2017   \n",
            "809        5999              Tata Bolt Revotron XT  Chennai  2016   \n",
            "811        6005           Maruti Vitara Brezza VDi     Pune  2016   \n",
            "\n",
            "     Kilometers_Driven Owner_Type  Mileage  Engine   Power  Seats  New_Price  \\\n",
            "1                36000      First    11.36    2755  171.50    8.0      21.00   \n",
            "2                25692      First    21.56    1462  103.25    5.0      10.65   \n",
            "5                37430      First    17.50    1199   88.70    5.0      10.57   \n",
            "7                50075      First    24.30    1248   88.50    5.0      11.12   \n",
            "10               22000      First    13.68    2393  147.80    8.0      19.34   \n",
            "..                 ...        ...      ...     ...     ...    ...        ...   \n",
            "805               6000      First    21.40    1197   83.10    5.0       8.78   \n",
            "806              39000      First    17.60    2179  153.86    7.0      21.00   \n",
            "807              15386      First    23.84    1199   84.00    5.0       5.56   \n",
            "809              10000      First    17.57    1193   88.70    5.0       7.77   \n",
            "811              37208      First    24.30    1248   88.50    5.0       9.93   \n",
            "\n",
            "     Price  Fuel_Type_Diesel  Fuel_Type_Petrol  Transmission_Automatic  \\\n",
            "1    17.50                 1                 0                       1   \n",
            "2     9.95                 0                 1                       0   \n",
            "5     9.90                 0                 1                       0   \n",
            "7     8.63                 1                 0                       0   \n",
            "10   16.50                 1                 0                       0   \n",
            "..     ...               ...               ...                     ...   \n",
            "805   7.50                 0                 1                       0   \n",
            "806  13.50                 1                 0                       1   \n",
            "807   5.11                 0                 1                       0   \n",
            "809   4.00                 0                 1                       0   \n",
            "811   7.43                 1                 0                       0   \n",
            "\n",
            "     Transmission_Manual  Current_Age  \n",
            "1                      0            8  \n",
            "2                      1            6  \n",
            "5                      1            6  \n",
            "7                      1            6  \n",
            "10                     1            7  \n",
            "..                   ...          ...  \n",
            "805                    1            7  \n",
            "806                    0            8  \n",
            "807                    1            7  \n",
            "809                    1            8  \n",
            "811                    1            8  \n",
            "\n",
            "[563 rows x 17 columns]\n"
          ]
        }
      ]
    },
    {
      "cell_type": "code",
      "source": [
        "renamed_dataframe_cleaned = dataframe_cleaned.rename(columns={'Year': 'Manufracter', 'Power': 'Horsepower'})\n",
        "print(renamed_dataframe_cleaned)\n",
        "renamed_dataframe_cleaned.to_csv('renamed_data.csv')\n"
      ],
      "metadata": {
        "colab": {
          "base_uri": "https://localhost:8080/"
        },
        "id": "VtcBaMMxDsXj",
        "outputId": "e0fe339c-b5d0-4451-8290-05e1a8f444dd"
      },
      "execution_count": null,
      "outputs": [
        {
          "output_type": "stream",
          "name": "stdout",
          "text": [
            "     Unnamed: 0                               Name Location  Manufracter  \\\n",
            "0             2                       Honda Jazz V  Chennai         2011   \n",
            "1             7  Toyota Innova Crysta 2.8 GX AT 8S   Mumbai         2016   \n",
            "2            10                   Maruti Ciaz Zeta    Kochi         2018   \n",
            "3            15        Mitsubishi Pajero Sport 4X4    Delhi         2014   \n",
            "4            20                  BMW 3 Series 320d    Kochi         2014   \n",
            "..          ...                                ...      ...          ...   \n",
            "809        5999              Tata Bolt Revotron XT  Chennai         2016   \n",
            "810        6002      Volkswagen Vento 1.6 Highline   Mumbai         2011   \n",
            "811        6005           Maruti Vitara Brezza VDi     Pune         2016   \n",
            "812        6010               Honda Brio 1.2 VX MT    Delhi         2013   \n",
            "813        6014                   Maruti Swift VDI    Delhi         2014   \n",
            "\n",
            "     Kilometers_Driven Owner_Type  Mileage  Engine  Horsepower  Seats  \\\n",
            "0                46000      First    13.00    1199       88.70    5.0   \n",
            "1                36000      First    11.36    2755      171.50    8.0   \n",
            "2                25692      First    21.56    1462      103.25    5.0   \n",
            "3               110000      First    13.50    2477      175.56    7.0   \n",
            "4                32982      First    22.69    1995      190.00    5.0   \n",
            "..                 ...        ...      ...     ...         ...    ...   \n",
            "809              10000      First    17.57    1193       88.70    5.0   \n",
            "810              38000      First    16.09    1598      103.50    5.0   \n",
            "811              37208      First    24.30    1248       88.50    5.0   \n",
            "812              33746      First    18.50    1198       86.80    5.0   \n",
            "813              27365      First    28.40    1248       74.00    5.0   \n",
            "\n",
            "     New_Price  Price  Fuel_Type_Diesel  Fuel_Type_Petrol  \\\n",
            "0         8.61   4.50                 0                 1   \n",
            "1        21.00  17.50                 1                 0   \n",
            "2        10.65   9.95                 0                 1   \n",
            "3        32.01  15.00                 1                 0   \n",
            "4        47.87  18.55                 1                 0   \n",
            "..         ...    ...               ...               ...   \n",
            "809       7.77   4.00                 0                 1   \n",
            "810      11.91   3.25                 0                 1   \n",
            "811       9.93   7.43                 1                 0   \n",
            "812       6.63   3.20                 0                 1   \n",
            "813       7.88   4.75                 1                 0   \n",
            "\n",
            "     Transmission_Automatic  Transmission_Manual  Current_Age  \n",
            "0                         0                    1           13  \n",
            "1                         1                    0            8  \n",
            "2                         0                    1            6  \n",
            "3                         0                    1           10  \n",
            "4                         1                    0           10  \n",
            "..                      ...                  ...          ...  \n",
            "809                       0                    1            8  \n",
            "810                       0                    1           13  \n",
            "811                       0                    1            8  \n",
            "812                       0                    1           11  \n",
            "813                       0                    1           10  \n",
            "\n",
            "[814 rows x 17 columns]\n"
          ]
        }
      ]
    },
    {
      "cell_type": "code",
      "source": [
        "mutated_data = 2024 - dataframe_cleaned['Year']\n",
        "print(mutated_data)\n",
        "mutated_data.to_csv('mutated_data.csv')\n"
      ],
      "metadata": {
        "colab": {
          "base_uri": "https://localhost:8080/"
        },
        "id": "naxakLp5EwRM",
        "outputId": "bdecc13a-5738-4972-f103-44d52df7a268"
      },
      "execution_count": null,
      "outputs": [
        {
          "output_type": "stream",
          "name": "stdout",
          "text": [
            "0      13\n",
            "1       8\n",
            "2       6\n",
            "3      10\n",
            "4      10\n",
            "       ..\n",
            "809     8\n",
            "810    13\n",
            "811     8\n",
            "812    11\n",
            "813    10\n",
            "Name: Year, Length: 814, dtype: int64\n"
          ]
        }
      ]
    },
    {
      "cell_type": "code",
      "source": [
        "sorted_dataframe_cleaned = dataframe_cleaned.sort_values(by='Price', ascending=False)\n",
        "print(sorted_dataframe_cleaned)\n",
        "sorted_dataframe_cleaned.to_csv('sorted_data.csv')\n"
      ],
      "metadata": {
        "colab": {
          "base_uri": "https://localhost:8080/"
        },
        "id": "4LgyjUn4FMGk",
        "outputId": "821a463f-327e-45f9-8851-947341a48ad6"
      },
      "execution_count": null,
      "outputs": [
        {
          "output_type": "stream",
          "name": "stdout",
          "text": [
            "     Unnamed: 0                                         Name    Location  \\\n",
            "542        4079  Land Rover Range Rover 3.0 Diesel LWB Vogue   Hyderabad   \n",
            "203        1505              Land Rover Range Rover Sport SE       Kochi   \n",
            "285        2095                     Mercedes-Benz SLC 43 AMG  Coimbatore   \n",
            "251        1885         Mercedes-Benz GLS 350d Grand Edition       Delhi   \n",
            "320        2319                Mercedes-Benz E-Class E 350 d  Coimbatore   \n",
            "..          ...                                          ...         ...   \n",
            "54          351                             Skoda Octavia RS      Jaipur   \n",
            "431        3132                         Porsche Cayenne Base       Kochi   \n",
            "181        1313                     Hyundai Verna CRDi 1.4 E     Chennai   \n",
            "303        2200                           Maruti Wagon R VXI      Mumbai   \n",
            "633        4863                        Hyundai Santro D Lite     Chennai   \n",
            "\n",
            "     Year  Kilometers_Driven Owner_Type  Mileage  Engine   Power  Seats  \\\n",
            "542  2017              25000      First    13.33    2993  255.00    5.0   \n",
            "203  2019              26013      First    12.65    2993  255.00    5.0   \n",
            "285  2019               2526      First    19.00    2996  362.07    2.0   \n",
            "251  2018               6000      First    11.00    2987  258.00    7.0   \n",
            "320  2019               9312      First    18.00    2987  258.00    5.0   \n",
            "..    ...                ...        ...      ...     ...     ...    ...   \n",
            "54   2005             100000      First    14.45    1984  227.00    5.0   \n",
            "431  2019              14298      First    13.33    2995  340.00    5.0   \n",
            "181  2008             121097     Second    24.00    1396   88.76    5.0   \n",
            "303  2010              38000     Second    22.50     998   67.04    5.0   \n",
            "633  2001             140000      Third    20.30    1086   68.00    5.0   \n",
            "\n",
            "     New_Price   Price  Fuel_Type_Diesel  Fuel_Type_Petrol  \\\n",
            "542       2.30  160.00                 1                 0   \n",
            "203       1.39   97.07                 1                 0   \n",
            "285       1.06   83.96                 0                 1   \n",
            "251       1.02   79.00                 1                 0   \n",
            "320      92.50   78.80                 1                 0   \n",
            "..         ...     ...               ...               ...   \n",
            "54       28.37    2.05                 0                 1   \n",
            "431       1.36    2.02                 0                 1   \n",
            "181      10.73    1.90                 1                 0   \n",
            "303       5.61    1.75                 0                 1   \n",
            "633       4.55    0.70                 0                 1   \n",
            "\n",
            "     Transmission_Automatic  Transmission_Manual  Current_Age  \n",
            "542                       1                    0            7  \n",
            "203                       1                    0            5  \n",
            "285                       1                    0            5  \n",
            "251                       1                    0            6  \n",
            "320                       1                    0            5  \n",
            "..                      ...                  ...          ...  \n",
            "54                        1                    0           19  \n",
            "431                       1                    0            5  \n",
            "181                       0                    1           16  \n",
            "303                       0                    1           14  \n",
            "633                       0                    1           23  \n",
            "\n",
            "[814 rows x 17 columns]\n"
          ]
        }
      ]
    },
    {
      "cell_type": "code",
      "source": [
        "average_price_by_model = dataframe_cleaned.groupby('Year')['Price'].mean().reset_index()\n",
        "print(average_price_by_model)\n",
        "average_price_by_model.to_csv('summarized_data.csv')\n"
      ],
      "metadata": {
        "colab": {
          "base_uri": "https://localhost:8080/"
        },
        "id": "me5SyyYFFTkM",
        "outputId": "d6763616-2a6d-4dea-9879-32b35c193d75"
      },
      "execution_count": null,
      "outputs": [
        {
          "output_type": "stream",
          "name": "stdout",
          "text": [
            "    Year      Price\n",
            "0   2001   0.700000\n",
            "1   2004   3.000000\n",
            "2   2005   2.050000\n",
            "3   2007   6.000000\n",
            "4   2008   2.475000\n",
            "5   2009  10.950000\n",
            "6   2010   7.140625\n",
            "7   2011   6.754348\n",
            "8   2012   7.928824\n",
            "9   2013   9.877209\n",
            "10  2014  10.208750\n",
            "11  2015  11.942353\n",
            "12  2016  13.304870\n",
            "13  2017  15.765256\n",
            "14  2018  15.336544\n",
            "15  2019  21.956034\n"
          ]
        }
      ]
    }
  ]
}